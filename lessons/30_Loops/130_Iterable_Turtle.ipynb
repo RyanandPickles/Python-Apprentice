{
  "cells": [
    {
      "cell_type": "code",
      "execution_count": null,
      "metadata": {},
      "outputs": [],
      "source": [
        "\"\"\"\n",
        "Programmable turtle graphics\n",
        "\n",
        "Use what you've learned about lists, loop, cycle, slice and zip to draw a pattern\n",
        "\n",
        "\"\"\"\n",
        "import turtle\n",
        "turtle.setup(600,600,0,0)               # Set the size of the window\n",
        "\n",
        "tina = turtle.Turtle()                  # Create a turtle named tina\n",
        "\n",
        "tina.shape('turtle')                    # Set the shape of the turtle to a turtle\n",
        "tina.speed(2)              \n",
        "\n",
        "colors = [\"red\",\"orange\"]\n",
        "\n",
        "directions = [ # Create a list of directions and angles\n",
        "    ( 1, 5 ),\n",
        "    (2, 6 ), ... # Add more\n",
        "]\n",
        "\n",
        "# Zip the colors and directions together, then unpack them. THere is a good example of this\n",
        "# in 10_More_iterables.ipynb in the discussion of zip()\n",
        "\n",
        "for color,(angle,distance) in zip( colors , directions):\n",
        "    tina.color( color )\n",
        "    tina.forward(distance)\n",
        "    tina.left( angle )\n",
        "\n",
        "\n",
        "# Don't forget the special way to end a turtle program. \n"
      ]
    }
  ],
  "metadata": {
    "kernelspec": {
      "display_name": "Python 3",
      "language": "python",
      "name": "python3"
    },
    "language_info": {
      "codemirror_mode": {
        "name": "ipython",
        "version": 3
      },
      "file_extension": ".py",
      "mimetype": "text/x-python",
      "name": "python",
      "nbconvert_exporter": "python",
      "pygments_lexer": "ipython3",
      "version": "3.12.11"
    },
    "syllabus": {
      "uid": "vTyp2WhX"
    }
  },
  "nbformat": 4,
  "nbformat_minor": 2
}
